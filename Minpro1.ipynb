{
  "nbformat": 4,
  "nbformat_minor": 0,
  "metadata": {
    "colab": {
      "provenance": []
    },
    "kernelspec": {
      "name": "python3",
      "display_name": "Python 3"
    },
    "language_info": {
      "name": "python"
    }
  },
  "cells": [
    {
      "cell_type": "markdown",
      "source": [
        "**BUSINESS UNDERSTANDING**\n",
        "\n"
      ],
      "metadata": {
        "id": "oduIXfw-we9P"
      }
    },
    {
      "cell_type": "markdown",
      "source": [
        "Nama: Prakasa Wira Mukti\n",
        "\n",
        "NIM: 2409116054\n",
        "\n",
        "Kelas: Sistem Informasi B'24"
      ],
      "metadata": {
        "id": "G9UZbk_HahVB"
      }
    },
    {
      "cell_type": "markdown",
      "source": [
        "-Business Objective\n",
        "\n",
        " Tujuan dari proyek ini adalah untuk menganalisis pola dan tren yang bisa digunakan untuk meningkatkan kepuasan pelanggan dengan meningkatkan ketepatan waktu pengiriman,meminimalkan biaya pengiriman dan waktu.\n"
      ],
      "metadata": {
        "id": "A4vRe44VwpNV"
      }
    },
    {
      "cell_type": "markdown",
      "source": [
        "-Assess Situation\n",
        "\n",
        "Situasi bisnis mendasari analisis ini adalah untuk mmenganalisis masalah terkait dengan pengiriman e-commerce seperti keterlambatan dan biaya tinggi, lalu mencari sebab utama yang mempengaruhi waktu pengiriman dan biaya, dan terakhir untuk memahami orang yang terlibat dalam proses pengiriman seperti pelanggan, kurir, dan manajer gudang"
      ],
      "metadata": {
        "id": "CVKlF4MQws4J"
      }
    },
    {
      "cell_type": "markdown",
      "source": [
        "-Data Mining Goals\n",
        "\n",
        "Membuat model untuk memprediksi apakah pengiriman akan terlambat atau tepat waktu berdasarkan faktor-faktor seperti metode pengiriman, kategori produk, atau lokasi pelanggan lalu mengelompokkan pelanggan berdasarkan perilaku belanja mereka dan menentukan apakah pola pengiriman tertentu lebih sering terjadi pada kelompok pelanggan tertentu dan yang terakhir untuk mengidentifikasi pengiriman yang keluar dari pola normal, baik dari segi keterlambatan atau biaya pengiriman yang tidak wajar.\n",
        "\n",
        "\n"
      ],
      "metadata": {
        "id": "m43kUdBew0BM"
      }
    },
    {
      "cell_type": "markdown",
      "source": [
        "-Project Plan\n",
        "\n",
        "- Pengumpulan Data:Kumpulkan dan bersihkan data.\n",
        "\n",
        "- Analisis Data: Lihat pola waktu pengiriman dan hubungan dengan kepuasan pelanggan.\n",
        "\n",
        "- Pembuatan Model: Bangun model untuk prediksi keterlambatan dan kelompokkan pola pengiriman.\n",
        "\n",
        "- Evaluasi Model: Ukur akurasi dan hasil clustering.\n",
        "\n",
        "- Implementasi: Terapkan solusi untuk mengurangi keterlambatan.\n",
        "\n",
        "- Pemantauan: Pantau kinerja pengiriman dan kepuasan pelanggan setelah implementasi.\n",
        "\n",
        "\n",
        "\n"
      ],
      "metadata": {
        "id": "nxOzNnNdDGP8"
      }
    },
    {
      "cell_type": "markdown",
      "source": [
        "-Studi Kasus\n",
        "\n",
        " Meningkatkan Pengiriman dan Kepuasan Pelanggan E-commerce\n",
        "\n",
        "Tujuan studi ini adalah untuk menganalisis data pengiriman e-commerce untuk:\n",
        "- Mengetahui faktor yang menyebabkan keterlambatan pengiriman berdasarkan metode pengiriman.\n",
        "- Membuat prediksi untuk mengurangi keterlambatan dan membuat pengiriman lebih efisien.\n",
        "- Mencari pola antara waktu pengiriman dan kategori produk untuk meningkatkan pengalaman pelanggan.\n",
        "\n"
      ],
      "metadata": {
        "id": "doioa5O6YJjx"
      }
    }
  ]
}